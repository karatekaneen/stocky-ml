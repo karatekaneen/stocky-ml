{
 "metadata": {
  "language_info": {
   "codemirror_mode": {
    "name": "ipython",
    "version": 3
   },
   "file_extension": ".py",
   "mimetype": "text/x-python",
   "name": "python",
   "nbconvert_exporter": "python",
   "pygments_lexer": "ipython3",
   "version": "3.8.2-final"
  },
  "orig_nbformat": 2,
  "kernelspec": {
   "name": "python3",
   "display_name": "Python 3"
  }
 },
 "nbformat": 4,
 "nbformat_minor": 2,
 "cells": [
  {
   "cell_type": "code",
   "execution_count": 13,
   "metadata": {},
   "outputs": [],
   "source": []
  },
  {
   "cell_type": "code",
   "execution_count": 6,
   "metadata": {},
   "outputs": [
    {
     "output_type": "stream",
     "name": "stdout",
     "text": [
      "\u001b[33mWARNING: You are using pip version 20.2.3; however, version 20.2.4 is available.\nYou should consider upgrading via the '/usr/bin/python3 -m pip install --upgrade pip' command.\u001b[0m\n"
     ]
    }
   ],
   "source": [
    "!pip install --upgrade -q seaborn google-cloud-firestore\n"
   ]
  },
  {
   "cell_type": "code",
   "execution_count": 8,
   "metadata": {},
   "outputs": [],
   "source": [
    "# Auth:\n",
    "import os\n",
    "os.environ[\"GOOGLE_APPLICATION_CREDENTIALS\"] = \"/tf/credentials.json\"\n",
    "\n",
    "# Data:\n",
    "import matplotlib.pyplot as plt\n",
    "import numpy as np\n",
    "import pandas as pd\n",
    "\n",
    "# Visualization:\n",
    "import seaborn as sns\n",
    "\n",
    "# Database:\n",
    "from google.cloud import firestore\n",
    "\n",
    "# TF:\n",
    "#import tensorflow as tf\n",
    "\n",
    "#from tensorflow import keras\n",
    "#from tensorflow.keras import layers\n",
    "#from tensorflow.keras.layers.experimental import preprocessing\n",
    "\n",
    "\n",
    "#print(tf.__version__)\n",
    "\n"
   ]
  },
  {
   "cell_type": "code",
   "execution_count": 9,
   "metadata": {},
   "outputs": [],
   "source": [
    "# Make numpy printouts easier to read.\n",
    "np.set_printoptions(precision=3, suppress=True)"
   ]
  },
  {
   "cell_type": "code",
   "execution_count": 14,
   "metadata": {},
   "outputs": [],
   "source": [
    "# Create db instance: \n",
    "db = firestore.Client()"
   ]
  },
  {
   "cell_type": "code",
   "execution_count": 20,
   "metadata": {},
   "outputs": [
    {
     "output_type": "execute_result",
     "data": {
      "text/plain": [
       "  action    status   price                                              stock  \\\n",
       "0    buy  executed   88.00  {'linkName': None, 'list': 'Large Cap Stockhol...   \n",
       "1   sell  executed   75.67  {'id': 5263, 'dataSeries': [], 'priceData': No...   \n",
       "2    buy  executed   66.00  {'priceData': None, 'list': 'Large Cap Stockho...   \n",
       "3   sell  executed   60.00  {'list': 'Large Cap Stockholm', 'linkName': No...   \n",
       "4    buy  executed  100.83  {'lastPricePoint': None, 'id': 5263, 'dataSeri...   \n",
       "\n",
       "    type                      date  \n",
       "0  enter  2000-01-09T23:00:00.000Z  \n",
       "1   exit  2000-01-25T23:00:00.000Z  \n",
       "2  enter  2000-07-30T22:00:00.000Z  \n",
       "3   exit  2000-09-11T22:00:00.000Z  \n",
       "4  enter  2003-09-03T22:00:00.000Z  "
      ],
      "text/html": "<div>\n<style scoped>\n    .dataframe tbody tr th:only-of-type {\n        vertical-align: middle;\n    }\n\n    .dataframe tbody tr th {\n        vertical-align: top;\n    }\n\n    .dataframe thead th {\n        text-align: right;\n    }\n</style>\n<table border=\"1\" class=\"dataframe\">\n  <thead>\n    <tr style=\"text-align: right;\">\n      <th></th>\n      <th>action</th>\n      <th>status</th>\n      <th>price</th>\n      <th>stock</th>\n      <th>type</th>\n      <th>date</th>\n    </tr>\n  </thead>\n  <tbody>\n    <tr>\n      <th>0</th>\n      <td>buy</td>\n      <td>executed</td>\n      <td>88.00</td>\n      <td>{'linkName': None, 'list': 'Large Cap Stockhol...</td>\n      <td>enter</td>\n      <td>2000-01-09T23:00:00.000Z</td>\n    </tr>\n    <tr>\n      <th>1</th>\n      <td>sell</td>\n      <td>executed</td>\n      <td>75.67</td>\n      <td>{'id': 5263, 'dataSeries': [], 'priceData': No...</td>\n      <td>exit</td>\n      <td>2000-01-25T23:00:00.000Z</td>\n    </tr>\n    <tr>\n      <th>2</th>\n      <td>buy</td>\n      <td>executed</td>\n      <td>66.00</td>\n      <td>{'priceData': None, 'list': 'Large Cap Stockho...</td>\n      <td>enter</td>\n      <td>2000-07-30T22:00:00.000Z</td>\n    </tr>\n    <tr>\n      <th>3</th>\n      <td>sell</td>\n      <td>executed</td>\n      <td>60.00</td>\n      <td>{'list': 'Large Cap Stockholm', 'linkName': No...</td>\n      <td>exit</td>\n      <td>2000-09-11T22:00:00.000Z</td>\n    </tr>\n    <tr>\n      <th>4</th>\n      <td>buy</td>\n      <td>executed</td>\n      <td>100.83</td>\n      <td>{'lastPricePoint': None, 'id': 5263, 'dataSeri...</td>\n      <td>enter</td>\n      <td>2003-09-03T22:00:00.000Z</td>\n    </tr>\n  </tbody>\n</table>\n</div>"
     },
     "metadata": {},
     "execution_count": 20
    }
   ],
   "source": [
    "doc = db.collection(u'signals').document('5263').get()\n",
    "df = pd.DataFrame.from_dict(doc.to_dict()['signals'])\n",
    "\n",
    "df.head()"
   ]
  },
  {
   "cell_type": "code",
   "execution_count": 36,
   "metadata": {},
   "outputs": [
    {
     "output_type": "execute_result",
     "data": {
      "text/plain": [
       "  action    status   price   type                      date stock_name  \\\n",
       "0    buy  executed   88.00  enter  2000-01-09T23:00:00.000Z      SCA B   \n",
       "1   sell  executed   75.67   exit  2000-01-25T23:00:00.000Z      SCA B   \n",
       "2    buy  executed   66.00  enter  2000-07-30T22:00:00.000Z      SCA B   \n",
       "3   sell  executed   60.00   exit  2000-09-11T22:00:00.000Z      SCA B   \n",
       "4    buy  executed  100.83  enter  2003-09-03T22:00:00.000Z      SCA B   \n",
       "\n",
       "  stock_id  \n",
       "0     5263  \n",
       "1     5263  \n",
       "2     5263  \n",
       "3     5263  \n",
       "4     5263  "
      ],
      "text/html": "<div>\n<style scoped>\n    .dataframe tbody tr th:only-of-type {\n        vertical-align: middle;\n    }\n\n    .dataframe tbody tr th {\n        vertical-align: top;\n    }\n\n    .dataframe thead th {\n        text-align: right;\n    }\n</style>\n<table border=\"1\" class=\"dataframe\">\n  <thead>\n    <tr style=\"text-align: right;\">\n      <th></th>\n      <th>action</th>\n      <th>status</th>\n      <th>price</th>\n      <th>type</th>\n      <th>date</th>\n      <th>stock_name</th>\n      <th>stock_id</th>\n    </tr>\n  </thead>\n  <tbody>\n    <tr>\n      <th>0</th>\n      <td>buy</td>\n      <td>executed</td>\n      <td>88.00</td>\n      <td>enter</td>\n      <td>2000-01-09T23:00:00.000Z</td>\n      <td>SCA B</td>\n      <td>5263</td>\n    </tr>\n    <tr>\n      <th>1</th>\n      <td>sell</td>\n      <td>executed</td>\n      <td>75.67</td>\n      <td>exit</td>\n      <td>2000-01-25T23:00:00.000Z</td>\n      <td>SCA B</td>\n      <td>5263</td>\n    </tr>\n    <tr>\n      <th>2</th>\n      <td>buy</td>\n      <td>executed</td>\n      <td>66.00</td>\n      <td>enter</td>\n      <td>2000-07-30T22:00:00.000Z</td>\n      <td>SCA B</td>\n      <td>5263</td>\n    </tr>\n    <tr>\n      <th>3</th>\n      <td>sell</td>\n      <td>executed</td>\n      <td>60.00</td>\n      <td>exit</td>\n      <td>2000-09-11T22:00:00.000Z</td>\n      <td>SCA B</td>\n      <td>5263</td>\n    </tr>\n    <tr>\n      <th>4</th>\n      <td>buy</td>\n      <td>executed</td>\n      <td>100.83</td>\n      <td>enter</td>\n      <td>2003-09-03T22:00:00.000Z</td>\n      <td>SCA B</td>\n      <td>5263</td>\n    </tr>\n  </tbody>\n</table>\n</div>"
     },
     "metadata": {},
     "execution_count": 36
    }
   ],
   "source": [
    "for i, row in df.iterrows():\n",
    "    df.at[i, 'stock_name'] = row['stock']['name']\n",
    "    df.at[i, 'stock_id'] = str(row['stock']['id'])\n",
    "\n",
    "df.pop('stock')\n",
    "df.head()\n"
   ]
  },
  {
   "source": [
    "# TODO\n",
    "- Add trades to db\n",
    "- lägg till trade result som kolumn\n",
    "\n",
    "## Features\n",
    "- Avg volume\n",
    "- STD\n",
    "- 1,3,6,12m perf\n",
    "- 1,3,6,12m relative perf (mot index)\n",
    "- räntekurva\n",
    "- breadth\n",
    "- rsi, massa olika\n",
    "- high massa olika\n",
    "- low massa olika\n",
    "- range massa olika\n",
    "\n"
   ],
   "cell_type": "markdown",
   "metadata": {}
  },
  {
   "cell_type": "code",
   "execution_count": null,
   "metadata": {},
   "outputs": [],
   "source": []
  }
 ]
}